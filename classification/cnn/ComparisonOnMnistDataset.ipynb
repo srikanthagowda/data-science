{
 "cells": [
  {
   "cell_type": "markdown",
   "metadata": {},
   "source": [
    "# Classification with dense or convolutional neural network\n",
    "\n",
    "Comparison of the tutorials of tensorflow.org : \n",
    "- Initial multiclass tutorial using Dense (Perceptron) layers - https://www.tensorflow.org/tutorials/keras/basic_classification\n",
    "- Convolutionnal neural network (CNN) tutorial"
   ]
  },
  {
   "cell_type": "code",
   "execution_count": 3,
   "metadata": {},
   "outputs": [
    {
     "name": "stdout",
     "output_type": "stream",
     "text": [
      "2.2.4-tf\n"
     ]
    }
   ],
   "source": [
    "from tensorflow import keras\n",
    "import numpy as np\n",
    "import matplotlib.pyplot as plt\n",
    "\n",
    "print(keras.__version__)"
   ]
  },
  {
   "cell_type": "markdown",
   "metadata": {},
   "source": [
    "## Data\n",
    "\n",
    "Using the fashion MNIST dataset from https://github.com/zalandoresearch/fashion-mnist\n",
    "It is made of 70k pictures classified in 10 categories. \n",
    "Images are greyscale, 28x28 pixels.\n",
    "\n",
    "The train/test split is 60/10"
   ]
  },
  {
   "cell_type": "code",
   "execution_count": 4,
   "metadata": {},
   "outputs": [
    {
     "name": "stdout",
     "output_type": "stream",
     "text": [
      "Downloading data from https://storage.googleapis.com/tensorflow/tf-keras-datasets/train-labels-idx1-ubyte.gz\n",
      "32768/29515 [=================================] - 0s 1us/step\n",
      "Downloading data from https://storage.googleapis.com/tensorflow/tf-keras-datasets/train-images-idx3-ubyte.gz\n",
      "26427392/26421880 [==============================] - 11s 0us/step\n",
      "Downloading data from https://storage.googleapis.com/tensorflow/tf-keras-datasets/t10k-labels-idx1-ubyte.gz\n",
      "8192/5148 [===============================================] - 0s 0us/step\n",
      "Downloading data from https://storage.googleapis.com/tensorflow/tf-keras-datasets/t10k-images-idx3-ubyte.gz\n",
      "4423680/4422102 [==============================] - 2s 0us/step\n"
     ]
    }
   ],
   "source": [
    "(train_images, train_labels), (test_images, test_labels) = keras.datasets.fashion_mnist.load_data()"
   ]
  },
  {
   "cell_type": "code",
   "execution_count": 10,
   "metadata": {},
   "outputs": [],
   "source": [
    "class_names = ['T-shirt/top', 'Trouser', 'Pullover', 'Dress', 'Coat',\n",
    "               'Sandal', 'Shirt', 'Sneaker', 'Bag', 'Ankle boot']\n",
    "\n",
    "image_width = 28\n",
    "image_height = 28\n",
    "n_classes = 10"
   ]
  },
  {
   "cell_type": "code",
   "execution_count": 6,
   "metadata": {},
   "outputs": [
    {
     "data": {
      "text/plain": [
       "(60000, 28, 28)"
      ]
     },
     "execution_count": 6,
     "metadata": {},
     "output_type": "execute_result"
    }
   ],
   "source": [
    "train_images.shape"
   ]
  },
  {
   "cell_type": "markdown",
   "metadata": {},
   "source": [
    "Scaling the 8 bit pixels of the images to float values in [0,1)"
   ]
  },
  {
   "cell_type": "code",
   "execution_count": 7,
   "metadata": {},
   "outputs": [],
   "source": [
    "train_images = train_images / 255.0\n",
    "test_images = test_images / 255.0"
   ]
  },
  {
   "cell_type": "markdown",
   "metadata": {},
   "source": [
    "## Helpers"
   ]
  },
  {
   "cell_type": "code",
   "execution_count": 64,
   "metadata": {},
   "outputs": [],
   "source": [
    "def plot_history(hist):\n",
    "    \"\"\" Plot a classification history as outputted by Keras \"\"\"\n",
    "    plt.figure(figsize=(15,4))\n",
    "    plt.subplot(1,3,1)\n",
    "    plt.plot(hist.history['loss'])\n",
    "    plt.grid()\n",
    "    plt.title('Loss')\n",
    "    plt.subplot(1,3,2)\n",
    "    plt.plot(hist.history['acc'])\n",
    "    plt.grid()\n",
    "    plt.title('Accuracy');"
   ]
  },
  {
   "cell_type": "markdown",
   "metadata": {},
   "source": [
    "## Classical model based on Dense layers\n",
    "\n",
    "https://www.tensorflow.org/tutorials/keras/basic_classification\n",
    "\n",
    "- Images are first flattened to 1D vectors of length 28*28 = 784, loosing the 2D information\n",
    "- The second layer is based on 128 neurons with 784 inputs, that is 100480 coefficients including the intercepts (bias)\n",
    "- Last layer is classifying on the 10 categories"
   ]
  },
  {
   "cell_type": "code",
   "execution_count": 25,
   "metadata": {},
   "outputs": [
    {
     "name": "stdout",
     "output_type": "stream",
     "text": [
      "Model: \"model1\"\n",
      "_________________________________________________________________\n",
      "Layer (type)                 Output Shape              Param #   \n",
      "=================================================================\n",
      "flatten_8 (Flatten)          (None, 784)               0         \n",
      "_________________________________________________________________\n",
      "dense_16 (Dense)             (None, 128)               100480    \n",
      "_________________________________________________________________\n",
      "dense_17 (Dense)             (None, 10)                1290      \n",
      "=================================================================\n",
      "Total params: 101,770\n",
      "Trainable params: 101,770\n",
      "Non-trainable params: 0\n",
      "_________________________________________________________________\n"
     ]
    }
   ],
   "source": [
    "model1 = keras.Sequential([\n",
    "    keras.layers.Flatten(input_shape=(image_width, image_height)),\n",
    "    keras.layers.Dense(128, activation=keras.activations.relu),\n",
    "    keras.layers.Dense(n_classes, activation=keras.activations.softmax)\n",
    "], 'model1')\n",
    "\n",
    "model1.compile(optimizer='adam',\n",
    "              loss=keras.losses.sparse_categorical_crossentropy,\n",
    "              metrics=['accuracy'])\n",
    "\n",
    "model1.summary()"
   ]
  },
  {
   "cell_type": "code",
   "execution_count": 26,
   "metadata": {},
   "outputs": [
    {
     "name": "stdout",
     "output_type": "stream",
     "text": [
      "Epoch 1/10\n",
      "60000/60000 [==============================] - 5s 76us/sample - loss: 0.4963 - acc: 0.8266\n",
      "Epoch 2/10\n",
      "60000/60000 [==============================] - 4s 66us/sample - loss: 0.3798 - acc: 0.8634\n",
      "Epoch 3/10\n",
      "60000/60000 [==============================] - 4s 65us/sample - loss: 0.3375 - acc: 0.8766\n",
      "Epoch 4/10\n",
      "60000/60000 [==============================] - 4s 64us/sample - loss: 0.3143 - acc: 0.8860\n",
      "Epoch 5/10\n",
      "60000/60000 [==============================] - 4s 64us/sample - loss: 0.2948 - acc: 0.8920\n",
      "Epoch 6/10\n",
      "60000/60000 [==============================] - 4s 65us/sample - loss: 0.2829 - acc: 0.8959\n",
      "Epoch 7/10\n",
      "60000/60000 [==============================] - 4s 65us/sample - loss: 0.2676 - acc: 0.9011\n",
      "Epoch 8/10\n",
      "60000/60000 [==============================] - 4s 66us/sample - loss: 0.2592 - acc: 0.9040\n",
      "Epoch 9/10\n",
      "60000/60000 [==============================] - 4s 67us/sample - loss: 0.2474 - acc: 0.9085\n",
      "Epoch 10/10\n",
      "60000/60000 [==============================] - 4s 67us/sample - loss: 0.2402 - acc: 0.9110\n"
     ]
    }
   ],
   "source": [
    "hist1 = model1.fit(train_images, train_labels, epochs=10, verbose=0)"
   ]
  },
  {
   "cell_type": "code",
   "execution_count": 66,
   "metadata": {
    "scrolled": true
   },
   "outputs": [
    {
     "name": "stdout",
     "output_type": "stream",
     "text": [
      "Final train accuracy: 0.911\n"
     ]
    },
    {
     "data": {
      "image/png": "[encoded data removed]",
      "text/plain": [
       "<Figure size 1080x288 with 2 Axes>"
      ]
     },
     "metadata": {
      "needs_background": "light"
     },
     "output_type": "display_data"
    }
   ],
   "source": [
    "plot_history(hist1)\n",
    "print('Final train accuracy: {:.3f}'.format(hist1.history['acc'][-1]))"
   ]
  },
  {
   "cell_type": "code",
   "execution_count": 38,
   "metadata": {},
   "outputs": [
    {
     "name": "stdout",
     "output_type": "stream",
     "text": [
      "10000/10000 [==============================] - 0s 38us/sample - loss: 0.3435 - acc: 0.8806\n",
      "Test loss: 0.344 accuracy: 0.881\n"
     ]
    }
   ],
   "source": [
    "test_loss1, test_acc1 = model1.evaluate(test_images, test_labels)\n",
    "print('Test loss: {:.3f} accuracy: {:.3f}'.format(test_loss1, test_acc1))\n",
    "predictions1 = model1.predict(test_images)"
   ]
  },
  {
   "cell_type": "markdown",
   "metadata": {},
   "source": [
    "As observed in the original tutorial, the accuracy in validation is lower than the one in training.\n",
    "\n",
    "Given the high number of coefficients (> 100k) compared to the number of train and test samples, this is expected."
   ]
  },
  {
   "cell_type": "markdown",
   "metadata": {},
   "source": [
    "### Adding regularizer to the classical model\n",
    "\n",
    "See also: https://www.tensorflow.org/tutorials/keras/overfit_and_underfit"
   ]
  },
  {
   "cell_type": "code",
   "execution_count": 67,
   "metadata": {},
   "outputs": [],
   "source": [
    "model2 = keras.Sequential([\n",
    "    keras.layers.Flatten(input_shape=(image_width, image_height)), \n",
    "    keras.layers.Dense(128, activation=keras.activations.relu,\n",
    "                       bias_regularizer=keras.regularizers.l1(0.0001),    # <---\n",
    "                       kernel_regularizer=keras.regularizers.l1(0.0001)), # <---\n",
    "    keras.layers.Dense(n_classes, activation=keras.activations.softmax)\n",
    "], 'model2')\n",
    "\n",
    "model2.compile(optimizer='adam',\n",
    "              loss=keras.losses.sparse_categorical_crossentropy,\n",
    "              metrics=['accuracy'])\n",
    "\n",
    "hist2 = model2.fit(train_images, train_labels, epochs=10, verbose=0)"
   ]
  },
  {
   "cell_type": "code",
   "execution_count": 68,
   "metadata": {},
   "outputs": [
    {
     "name": "stdout",
     "output_type": "stream",
     "text": [
      "Final train accuracy: 0.878\n"
     ]
    },
    {
     "data": {
      "image/png": "[encoded data removed]",
      "text/plain": [
       "<Figure size 1080x288 with 2 Axes>"
      ]
     },
     "metadata": {
      "needs_background": "light"
     },
     "output_type": "display_data"
    }
   ],
   "source": [
    "plot_history(hist2)\n",
    "print('Final train accuracy: {:.3f}'.format(hist2.history['acc'][-1]))"
   ]
  },
  {
   "cell_type": "code",
   "execution_count": 69,
   "metadata": {},
   "outputs": [
    {
     "name": "stdout",
     "output_type": "stream",
     "text": [
      "10000/10000 [==============================] - 0s 45us/sample - loss: 0.5029 - acc: 0.8603\n",
      "Test loss: 0.503 accuracy: 0.860\n"
     ]
    }
   ],
   "source": [
    "test_loss2, test_acc2 = model2.evaluate(test_images, test_labels)\n",
    "print('Test loss: {:.3f} accuracy: {:.3f}'.format(test_loss2, test_acc2))\n",
    "# predictions2 = model2.predict(test_images)"
   ]
  },
  {
   "cell_type": "code",
   "execution_count": 70,
   "metadata": {},
   "outputs": [
    {
     "data": {
      "image/png": "[encoded data removed]",
      "text/plain": [
       "<Figure size 432x288 with 1 Axes>"
      ]
     },
     "metadata": {
      "needs_background": "light"
     },
     "output_type": "display_data"
    }
   ],
   "source": [
    "plt.hist(model1.get_weights()[0].reshape(-1), bins=40, range=(-0.1, 0.1), density=True);\n",
    "plt.hist(model2.get_weights()[0].reshape(-1), bins=40, range=(-0.1, 0.1), density=True);\n",
    "plt.title('Layer 2 coefficients histo')\n",
    "plt.legend(('original', 'w/ regularizer'));"
   ]
  },
  {
   "cell_type": "markdown",
   "metadata": {},
   "source": [
    "The effect of the regularizer is clearly visible on the coefficients distribution.\n",
    "It has an effect on the accurracy in lowering a little the prediction\n",
    "\n",
    "But overfitting is not shown when estimating the data on the test set\n",
    "\n",
    "We might then think that the Dense layer of 784 x 128 is overdimensionned"
   ]
  },
  {
   "cell_type": "markdown",
   "metadata": {},
   "source": [
    "## Optimizing the number of neurons in the Dense layer #2"
   ]
  },
  {
   "cell_type": "code",
   "execution_count": 74,
   "metadata": {},
   "outputs": [
    {
     "name": "stdout",
     "output_type": "stream",
     "text": [
      "Final train accuracy for size 4: 0.812\n",
      "Final train accuracy for size 16: 0.866\n",
      "Final train accuracy for size 48: 0.875\n",
      "Final train accuracy for size 64: 0.879\n",
      "Final train accuracy for size 96: 0.879\n",
      "Final train accuracy for size 128: 0.878\n",
      "Final train accuracy for size 256: 0.879\n"
     ]
    }
   ],
   "source": [
    "hist3 = []\n",
    "for n_neurons in [4, 16, 48, 64, 96, 128, 256]:\n",
    "    model3 = keras.Sequential([\n",
    "        keras.layers.Flatten(input_shape=(image_width, image_height)), \n",
    "        keras.layers.Dense(n_neurons, activation=keras.activations.relu,      # <---\n",
    "                           bias_regularizer=keras.regularizers.l1(0.0001),    # <---\n",
    "                           kernel_regularizer=keras.regularizers.l1(0.0001)), # <---\n",
    "        keras.layers.Dense(n_classes, activation=keras.activations.softmax)\n",
    "    ])\n",
    "\n",
    "    model3.compile(optimizer='adam',\n",
    "                  loss=keras.losses.sparse_categorical_crossentropy,\n",
    "                  metrics=['accuracy'])\n",
    "\n",
    "    h = model3.fit(train_images, train_labels, epochs=10, verbose=0)\n",
    "    hist3.append(h)\n",
    "    print('Final train accuracy for size {:d}: {:.3f}'.format(n_neurons, h.history['acc'][-1]))"
   ]
  },
  {
   "cell_type": "markdown",
   "metadata": {},
   "source": [
    "## Classical model with 48 neurons\n",
    "\n",
    "As shown above, the original model with 128 neurons is behaving as good as the one with 48 neurons"
   ]
  },
  {
   "cell_type": "code",
   "execution_count": 106,
   "metadata": {},
   "outputs": [],
   "source": [
    "model4 = keras.Sequential([\n",
    "    keras.layers.Flatten(input_shape=(image_width, image_height)), \n",
    "    keras.layers.Dense(48, activation=keras.activations.relu,             # <---\n",
    "                       bias_regularizer=keras.regularizers.l1(0.0001),    # <---\n",
    "                       kernel_regularizer=keras.regularizers.l1(0.0001)), # <---\n",
    "    keras.layers.Dense(n_classes, activation=keras.activations.softmax)\n",
    "], name='model4')\n",
    "\n",
    "model4.compile(optimizer='adam',\n",
    "              loss=keras.losses.sparse_categorical_crossentropy,\n",
    "              metrics=['accuracy'])\n",
    "\n",
    "hist4 = model4.fit(train_images, train_labels, epochs=20, verbose=0)"
   ]
  },
  {
   "cell_type": "code",
   "execution_count": 86,
   "metadata": {},
   "outputs": [
    {
     "name": "stdout",
     "output_type": "stream",
     "text": [
      "Model: \"sequential_23\"\n",
      "_________________________________________________________________\n",
      "Layer (type)                 Output Shape              Param #   \n",
      "=================================================================\n",
      "flatten_29 (Flatten)         (None, 784)               0         \n",
      "_________________________________________________________________\n",
      "dense_58 (Dense)             (None, 48)                37680     \n",
      "_________________________________________________________________\n",
      "dense_59 (Dense)             (None, 10)                490       \n",
      "=================================================================\n",
      "Total params: 38,170\n",
      "Trainable params: 38,170\n",
      "Non-trainable params: 0\n",
      "_________________________________________________________________\n"
     ]
    }
   ],
   "source": [
    "model4.summary()"
   ]
  },
  {
   "cell_type": "code",
   "execution_count": 107,
   "metadata": {},
   "outputs": [
    {
     "name": "stdout",
     "output_type": "stream",
     "text": [
      "Final train accuracy: 0.886\n"
     ]
    },
    {
     "data": {
      "image/png": "[encoded data removed]",
      "text/plain": [
       "<Figure size 1080x288 with 2 Axes>"
      ]
     },
     "metadata": {
      "needs_background": "light"
     },
     "output_type": "display_data"
    }
   ],
   "source": [
    "plot_history(hist4)\n",
    "print('Final train accuracy: {:.3f}'.format(hist4.history['acc'][-1]))"
   ]
  },
  {
   "cell_type": "code",
   "execution_count": 109,
   "metadata": {},
   "outputs": [
    {
     "name": "stdout",
     "output_type": "stream",
     "text": [
      "10000/10000 [==============================] - 1s 61us/sample - loss: 0.4901 - acc: 0.8581\n",
      "Test loss: 0.490 accuracy: 0.858\n"
     ]
    }
   ],
   "source": [
    "test_loss4, test_acc4 = model4.evaluate(test_images, test_labels)\n",
    "print('Test loss: {:.3f} accuracy: {:.3f}'.format(test_loss4, test_acc4))"
   ]
  },
  {
   "cell_type": "code",
   "execution_count": 94,
   "metadata": {},
   "outputs": [
    {
     "data": {
      "image/png": "[encoded data removed]",
      "text/plain": [
       "<Figure size 432x288 with 1 Axes>"
      ]
     },
     "metadata": {
      "needs_background": "light"
     },
     "output_type": "display_data"
    }
   ],
   "source": [
    "plt.hist(model1.get_weights()[0].reshape(-1), bins=40, range=(-0.1, 0.1), density=True);\n",
    "plt.hist(model2.get_weights()[0].reshape(-1), bins=40, range=(-0.1, 0.1), density=True, alpha=0.7);\n",
    "plt.hist(model4.get_weights()[0].reshape(-1), bins=40, range=(-0.1, 0.1), density=True, alpha=0.7);\n",
    "plt.title('Layer 2 coefficients histo')\n",
    "plt.legend(('original', 'regularizer', '48 neurons + regularizer'));"
   ]
  },
  {
   "cell_type": "markdown",
   "metadata": {},
   "source": [
    "With 48 neurons, the performance is quasi identical to the original model but with 1/3 of the number of coefficients. Moreover, the overfitting is decreased by the lower number of parameters versus the train data set size"
   ]
  },
  {
   "cell_type": "markdown",
   "metadata": {},
   "source": [
    "# Convolutional neural network\n",
    "\n",
    "https://www.tensorflow.org/beta/tutorials/images/intro_to_cnns  __!! Tensorflow v2.0-beta tutorial__ but it works with TF v1.14, convergence is slower though"
   ]
  },
  {
   "cell_type": "code",
   "execution_count": null,
   "metadata": {},
   "outputs": [
    {
     "name": "stdout",
     "output_type": "stream",
     "text": [
      "Model: \"model5\"\n",
      "_________________________________________________________________\n",
      "Layer (type)                 Output Shape              Param #   \n",
      "=================================================================\n",
      "conv2d_9 (Conv2D)            (None, 26, 26, 32)        320       \n",
      "_________________________________________________________________\n",
      "max_pooling2d_8 (MaxPooling2 (None, 13, 13, 32)        0         \n",
      "_________________________________________________________________\n",
      "conv2d_10 (Conv2D)           (None, 11, 11, 64)        18496     \n",
      "_________________________________________________________________\n",
      "max_pooling2d_9 (MaxPooling2 (None, 5, 5, 64)          0         \n",
      "_________________________________________________________________\n",
      "conv2d_11 (Conv2D)           (None, 3, 3, 64)          36928     \n",
      "_________________________________________________________________\n",
      "flatten_38 (Flatten)         (None, 576)               0         \n",
      "_________________________________________________________________\n",
      "dense_76 (Dense)             (None, 64)                36928     \n",
      "_________________________________________________________________\n",
      "dense_77 (Dense)             (None, 10)                650       \n",
      "=================================================================\n",
      "Total params: 93,322\n",
      "Trainable params: 93,322\n",
      "Non-trainable params: 0\n",
      "_________________________________________________________________\n"
     ]
    }
   ],
   "source": [
    "model5 = keras.models.Sequential([\n",
    "    # Single image channel\n",
    "    keras.layers.Conv2D(32, (3, 3), activation=keras.activations.relu, input_shape=(image_width, image_height, 1)), \n",
    "    keras.layers.MaxPooling2D((2, 2)),\n",
    "    keras.layers.Conv2D(64, (3, 3), activation=keras.activations.relu),\n",
    "    keras.layers.MaxPooling2D((2, 2)),\n",
    "    keras.layers.Conv2D(64, (3, 3), activation=keras.activations.relu),\n",
    "    keras.layers.Flatten(),\n",
    "    keras.layers.Dense(64, activation=keras.activations.relu),\n",
    "    keras.layers.Dense(10, activation=keras.activations.softmax)\n",
    "], 'model5')\n",
    "\n",
    "model5.compile(optimizer='adam',\n",
    "              loss=keras.losses.sparse_categorical_crossentropy,\n",
    "              metrics=['accuracy'])\n",
    "\n",
    "model5.summary()\n",
    "\n",
    "hist5 = model5.fit(train_images.reshape((60000, image_width, image_height, 1)), train_labels, \n",
    "                   epochs=24, validation_split=0.2, \n",
    "                   workers=2, verbose=0)"
   ]
  },
  {
   "cell_type": "code",
   "execution_count": null,
   "metadata": {},
   "outputs": [],
   "source": [
    "plot_history(hist5)\n",
    "print('Final train accuracy: {:.3f}'.format(hist5.history['acc'][-1]))"
   ]
  },
  {
   "cell_type": "code",
   "execution_count": null,
   "metadata": {},
   "outputs": [],
   "source": [
    "test_loss5, test_acc5 = model5.evaluate(test_images.reshape(10000, image_width, image_height, 1), test_labels, verbose=0)\n",
    "print('Test loss: {:.3f} accuracy: {:.3f}'.format(test_loss5, test_acc5))"
   ]
  }
 ],
 "metadata": {
  "kernelspec": {
   "display_name": "Python 3",
   "language": "python",
   "name": "python3"
  },
  "language_info": {
   "codemirror_mode": {
    "name": "ipython",
    "version": 3
   },
   "file_extension": ".py",
   "mimetype": "text/x-python",
   "name": "python",
   "nbconvert_exporter": "python",
   "pygments_lexer": "ipython3",
   "version": "3.6.3"
  }
 },
 "nbformat": 4,
 "nbformat_minor": 2
}
