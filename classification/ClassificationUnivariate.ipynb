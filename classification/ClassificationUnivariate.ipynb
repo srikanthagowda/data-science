{
 "cells": [
  {
   "cell_type": "markdown",
   "metadata": {},
   "source": [
    "# Classification univariate\n",
    "\n",
    "Classification using \"raw\" python or libraries.\n",
    "The classification is first on a single boundary defined by a continuous function"
   ]
  },
  {
   "cell_type": "code",
   "execution_count": 10,
   "metadata": {},
   "outputs": [],
   "source": [
    "import numpy as np\n",
    "from numpy import random\n",
    "import matplotlib.pyplot as plt\n",
    "import matplotlib.colors as pltcolors\n",
    "from sklearn import metrics\n",
    "import scipy as sy\n",
    "import pandas\n",
    "import sympy"
   ]
  },
  {
   "cell_type": "markdown",
   "metadata": {},
   "source": [
    "## Model\n",
    "\n",
    "Define a boundary with a quadratic continuous function on a fiven x-y rectangle"
   ]
  },
  {
   "cell_type": "code",
   "execution_count": 14,
   "metadata": {},
   "outputs": [],
   "source": [
    "#\n",
    "xMin = 0\n",
    "xMax = 0.5\n",
    "#\n",
    "b = 0.5\n",
    "#\n",
    "yMin = 0\n",
    "yMax = 1\n",
    "#\n",
    "def generateBatch(N):\n",
    "    x = random.uniform(xMin, xMax, N)\n",
    "    y = random.uniform(yMin, yMax, N)\n",
    "    yBound = x**4 + (x-0.3)**3 + b\n",
    "    labels = y > yBound\n",
    "    return (x, y, labels)"
   ]
  },
  {
   "cell_type": "code",
   "execution_count": 20,
   "metadata": {},
   "outputs": [
    {
     "data": {
      "image/png": "[encoded data removed]",
      "text/plain": [
       "<Figure size 576x576 with 2 Axes>"
      ]
     },
     "metadata": {
      "needs_background": "light"
     },
     "output_type": "display_data"
    }
   ],
   "source": [
    "N = 10000\n",
    "x, y, labels = generateBatch(N)\n",
    "\n",
    "colors = ['blue','red']\n",
    "\n",
    "fig = plt.figure(figsize=(8,8))\n",
    "plt.scatter(x, y, c=labels, cmap=pltcolors.ListedColormap(colors), marker=',')\n",
    "cb = plt.colorbar()\n",
    "loc = np.arange(0,max(labels),max(labels)/float(len(colors)))\n",
    "cb.set_ticks(loc)\n",
    "cb.set_ticklabels(colors)\n"
   ]
  },
  {
   "cell_type": "code",
   "execution_count": 23,
   "metadata": {},
   "outputs": [
    {
     "data": {
      "text/latex": [
       "$\\displaystyle x^{4} + x^{3} - 0.9 x^{2} + 0.27 x + 0.473$"
      ],
      "text/plain": [
       "x**4 + x**3 - 0.9*x**2 + 0.27*x + 0.473"
      ]
     },
     "execution_count": 23,
     "metadata": {},
     "output_type": "execute_result"
    }
   ],
   "source": [
    "xs = sympy.Symbol('x')\n",
    "sympy.expand(xs**4 + (xs-0.3)**3 + b)"
   ]
  },
  {
   "cell_type": "code",
   "execution_count": null,
   "metadata": {},
   "outputs": [],
   "source": []
  }
 ],
 "metadata": {
  "kernelspec": {
   "display_name": "Python 3",
   "language": "python",
   "name": "python3"
  },
  "language_info": {
   "codemirror_mode": {
    "name": "ipython",
    "version": 3
   },
   "file_extension": ".py",
   "mimetype": "text/x-python",
   "name": "python",
   "nbconvert_exporter": "python",
   "pygments_lexer": "ipython3",
   "version": "3.6.3"
  }
 },
 "nbformat": 4,
 "nbformat_minor": 2
}
