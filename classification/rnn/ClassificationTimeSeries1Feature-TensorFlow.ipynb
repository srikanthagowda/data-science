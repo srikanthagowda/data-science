{
 "cells": [
  {
   "cell_type": "markdown",
   "metadata": {},
   "source": [
    "# Classification on a time series with TensorFlow\n",
    "\n",
    "Using a modified Fizz-Buzz as in the original post of Joel Grus \"[Fizz Buzz in TensorFlow](https://joelgrus.com/2016/05/23/fizz-buzz-in-tensorflow/)\"\n",
    "\n",
    "### Learning goals:\n",
    "- Differences between the space split on a continuous functions and a time series\n",
    "- Recurrent Neural Networks (RNN)\n",
    "- Long-Short Term Memory (LSTM)"
   ]
  },
  {
   "cell_type": "code",
   "execution_count": 1,
   "metadata": {},
   "outputs": [],
   "source": [
    "import tensorflow as tf\n",
    "import numpy as np\n",
    "import matplotlib.pyplot as plt\n",
    "from sklearn import metrics\n",
    "import scikitplot as skplt\n",
    "import pandas"
   ]
  },
  {
   "cell_type": "markdown",
   "metadata": {},
   "source": [
    "# Generator model\n",
    "\n",
    "Use the Fizz-Buzz as a data model (https://en.wikipedia.org/wiki/Fizz_buzz)\n",
    "\n",
    "We will reuse the model of Joel Grus with one-hot encoded data\n"
   ]
  },
  {
   "cell_type": "code",
   "execution_count": 3,
   "metadata": {},
   "outputs": [],
   "source": [
    "def fizz_buzz(i, asInt = False):\n",
    "    if asInt:\n",
    "        if   i % 15 == 0: return 3\n",
    "        elif i % 5  == 0: return 2\n",
    "        elif i % 3  == 0: return 1\n",
    "        else:             return 0\n",
    "    else:\n",
    "        if   i % 15 == 0: return \"fizzbuzz\"\n",
    "        elif i % 5  == 0: return \"buzz\"\n",
    "        elif i % 3  == 0: return \"fizz\"\n",
    "        else:             return str(i)\n",
    "    \n",
    "def fizz_buzz_prediction(i, prediction):\n",
    "    return [str(i), \"fizz\", \"buzz\", \"fizzbuzz\"][prediction]"
   ]
  },
  {
   "cell_type": "markdown",
   "metadata": {},
   "source": [
    "# Joel Grus's implementation"
   ]
  },
  {
   "cell_type": "markdown",
   "metadata": {},
   "source": [
    "Training with integers from 101 up to 2**10 = 1024 using one-hot encoded\n",
    "\n",
    "Reference code: https://github.com/joelgrus/fizz-buzz-tensorflow/blob/master/fizz_buzz.py"
   ]
  },
  {
   "cell_type": "code",
   "execution_count": 74,
   "metadata": {},
   "outputs": [],
   "source": [
    "NUM_OUT = 4\n",
    "NUM_DIGITS = 10\n",
    "NUM_HIDDEN = 100\n",
    "\n",
    "def binary_encode(i, num_digits):\n",
    "    return np.array([i >> d & 1 for d in range(num_digits)])\n",
    "\n",
    "def init_weights(shape):\n",
    "    return tf.Variable(tf.random_normal(shape, stddev=0.01))\n",
    "\n",
    "# Training data\n",
    "trX = np.array([binary_encode(i, NUM_DIGITS) for i in range(101, 2 ** NUM_DIGITS)])\n",
    "trY = np.array([fizz_buzz(i, True)           for i in range(101, 2 ** NUM_DIGITS)])\n",
    "\n",
    "# Tensorflow model\n",
    "X = tf.placeholder(\"float\", [None, NUM_DIGITS], name='X')\n",
    "Y = tf.placeholder(\"int32\", [None], name='Y')\n",
    "\n",
    "w_h = init_weights([NUM_DIGITS, NUM_HIDDEN])\n",
    "w_o = init_weights([NUM_HIDDEN, NUM_OUT])\n",
    "\n",
    "# Layer 1 with Relu activation\n",
    "h = tf.nn.relu(tf.matmul(X, w_h))\n",
    "\n",
    "# Layer 2\n",
    "py_x = tf.matmul(h, w_o)\n",
    "\n",
    "# Output prediction\n",
    "predict_op = tf.argmax(py_x, 1)\n",
    "\n",
    "cost = tf.reduce_mean(tf.nn.sparse_softmax_cross_entropy_with_logits(logits=py_x, labels=Y))\n",
    "\n",
    "train_op = tf.train.AdamOptimizer(0.05).minimize(cost)"
   ]
  },
  {
   "cell_type": "code",
   "execution_count": 75,
   "metadata": {},
   "outputs": [
    {
     "name": "stdout",
     "output_type": "stream",
     "text": [
      "0 0.5341278439869989\n",
      "1000 0.9967497291440953\n",
      "2000 0.9859154929577465\n",
      "3000 0.9934994582881906\n",
      "4000 1.0\n",
      "5000 1.0\n",
      "6000 1.0\n",
      "7000 1.0\n",
      "8000 0.9609967497291441\n",
      "9000 1.0\n",
      "10000 1.0\n"
     ]
    }
   ],
   "source": [
    "BATCH_SIZE = 128\n",
    "N_EPOCHS = 10000\n",
    "\n",
    "init = tf.global_variables_initializer() \n",
    "\n",
    "with tf.Session() as sess:\n",
    "    sess.run(init)\n",
    "    \n",
    "    for epoch in range(N_EPOCHS+1):\n",
    "        p = np.random.permutation(range(len(trX)))\n",
    "        trX, trY = trX[p], trY[p]\n",
    "        \n",
    "        for start in range(0, len(trX), BATCH_SIZE):\n",
    "            end = start + BATCH_SIZE\n",
    "            sess.run(train_op, feed_dict={X: trX[start:end], Y: trY[start:end]})\n",
    "            \n",
    "        if epoch % 1000 == 0:\n",
    "            accuracy = np.mean(trY == sess.run(predict_op, feed_dict={X: trX, Y: trY}))\n",
    "            print(epoch, accuracy)\n",
    "            \n",
    "    # And now for some fizz buzz\n",
    "    numbers = np.arange(1, 101)\n",
    "    teX = np.transpose(binary_encode(numbers, NUM_DIGITS))\n",
    "    teYEst = sess.run(predict_op, feed_dict={X: teX})\n",
    "    output = np.vectorize(fizz_buzz_prediction)(numbers, teYEst)"
   ]
  },
  {
   "cell_type": "markdown",
   "metadata": {},
   "source": [
    "Few modifications were performed to this implementation:\n",
    "- Use Adam optimizer, faster to converge and more efficient\n",
    "- Fix the code for TensorFlow v1.4 & v1.14\n",
    "- Only print the metrics every 1000 epochs\n",
    "- Use the 1-hot encoding only on the Cost (through tf.nn.sparse_softmax_cross_entropy_with_logits)"
   ]
  },
  {
   "cell_type": "markdown",
   "metadata": {},
   "source": [
    "Let's continue the dialog of Joel with the interviewer...\n",
    "\n",
    "__interviewer:__ It seems that model is overfitting\n",
    "\n",
    "__Joel:__ Why do you say so?\n",
    "\n",
    "__interviewer:__ There are more than 1000 parameters, the training dataset is lower than 1000 points.\n",
    "\n",
    "Moreover, 2 (the one-hot encode base), 3 and 5 (the Fizzbuzz parameters) are prime numbers. in consequence, the one-encoded input is little more than a random sequence"
   ]
  },
  {
   "cell_type": "code",
   "execution_count": 76,
   "metadata": {},
   "outputs": [],
   "source": [
    "fizzBuzzLabels = np.vectorize(fizz_buzz)(numbers, True)"
   ]
  },
  {
   "cell_type": "code",
   "execution_count": 77,
   "metadata": {},
   "outputs": [
    {
     "data": {
      "image/png": "[encoded data removed]",
      "text/plain": [
       "<Figure size 432x288 with 2 Axes>"
      ]
     },
     "metadata": {
      "needs_background": "light"
     },
     "output_type": "display_data"
    }
   ],
   "source": [
    "skplt.metrics.plot_confusion_matrix(fizzBuzzLabels, teYEst, normalize=True);"
   ]
  },
  {
   "cell_type": "markdown",
   "metadata": {},
   "source": [
    "The estimation on test data is confirming the overfitting, generalization accuracy is lower than the training accuracy and varies a lot between categories"
   ]
  },
  {
   "cell_type": "markdown",
   "metadata": {},
   "source": [
    "# Fizzbuzz as a time series\n",
    "\n",
    "Above implementation relies on the sample index and is explicitly discarding the time series information through a permutation at every epoch of the estimation."
   ]
  },
  {
   "cell_type": "code",
   "execution_count": 242,
   "metadata": {},
   "outputs": [],
   "source": [
    "n = 32768\n",
    "# Using a single fake feature as input\n",
    "nFeatures = 1\n",
    "xTrain =  np.ones(n) # np.random.normal(0, 1.0, n)\n",
    "#xTrain[1:n:2] = -1 \n",
    "# Output is the integer corresponding to the class [0, 4]\n",
    "nClasses = 4\n",
    "yTrain = np.vectorize(fizz_buzz)(range(n), True)"
   ]
  },
  {
   "cell_type": "code",
   "execution_count": 259,
   "metadata": {},
   "outputs": [
    {
     "name": "stdout",
     "output_type": "stream",
     "text": [
      "Train x shape: (64, 512) , y shape: (64, 512) , number of batches: 16\n"
     ]
    }
   ],
   "source": [
    "# Mini batch number of items\n",
    "nBatchItems = 64\n",
    "# Length of the RNN state\n",
    "nStateSamples = 64\n",
    "# End of back propagation\n",
    "nBackpropagationSamples = 32\n",
    "# Nunber of batches\n",
    "nBatches = n//nBatchItems//nBackpropagationSamples\n",
    "\n",
    "# Reshape the input into batches\n",
    "xTrainBatched = xTrain.reshape(nBatchItems, -1)\n",
    "yTrainBatched = yTrain.reshape(nBatchItems, -1)\n",
    "print('Train x shape:', xTrainBatched.shape, ', y shape:', yTrainBatched.shape, ', number of batches:', nBatches)"
   ]
  },
  {
   "cell_type": "markdown",
   "metadata": {},
   "source": [
    "## TensorFlow basic model\n",
    "\n",
    "Let's create a TensorFlow model from scratch, i.e. without using predesigned RNN cells\n",
    "\n",
    "The input must be shaped by the number of batches\n",
    "\n",
    "References:\n",
    "- [How to build a Recurrent Neural Network in TensorFlow (1/7) - Medium](https://medium.com/@erikhallstrm/hello-world-rnn-83cd7105b767)\n",
    "\n",
    "Naming conventions:\n",
    "- Symbolic variables and placeholders start with uppercase"
   ]
  },
  {
   "cell_type": "code",
   "execution_count": 260,
   "metadata": {},
   "outputs": [],
   "source": [
    "X = tf.placeholder(tf.float32, [nBatchItems, nBackpropagationSamples], name='X')\n",
    "Y = tf.placeholder(tf.int32,   [nBatchItems, nBackpropagationSamples], name='Y')\n",
    "\n",
    "InitState = tf.placeholder(tf.float32, [nBatchItems, nStateSamples], name='InitState')\n",
    "\n",
    "# Layer 1\n",
    "W1 = tf.Variable(np.random.rand(nStateSamples + 1, nStateSamples), dtype=tf.float32, name='W1')\n",
    "B1 = tf.Variable(np.zeros((1, nStateSamples)),                     dtype=tf.float32, name='B1')\n",
    "\n",
    "# Layer 2\n",
    "W2 = tf.Variable(np.random.rand(nStateSamples, nClasses),          dtype=tf.float32, name='W2')\n",
    "B2 = tf.Variable(np.zeros((1, nClasses)),                          dtype=tf.float32, name='B2')\n",
    "\n",
    "# Unpack columns\n",
    "InputsSeries = tf.unstack(X, axis=1)\n",
    "LabelsSeries = tf.unstack(Y, axis=1)"
   ]
  },
  {
   "cell_type": "code",
   "execution_count": 261,
   "metadata": {},
   "outputs": [],
   "source": [
    "# Forward pass\n",
    "CurrentState = InitState\n",
    "StateSeries = []\n",
    "LocalLosses = []\n",
    "PredictionSeries = []\n",
    "\n",
    "# Unroll states on the length of the backpropagation\n",
    "for Inp, Labels in zip(InputsSeries, LabelsSeries):\n",
    "    \n",
    "    # First layer\n",
    "    X1 = tf.reshape(Inp, [nBatchItems, 1])\n",
    "    ## Concatenate X1 and current state\n",
    "    Y1 = tf.matmul(tf.concat([X1, CurrentState], 1), W1) + B1  \n",
    "    ## Activation with tanh (squashing) to update current state\n",
    "    CurrentState = nClasses * tf.tanh(Y1) \n",
    "    \n",
    "    # Second layer\n",
    "    ## Logits\n",
    "    Y2 = tf.matmul(CurrentState, W2) + B2\n",
    "    ## Predictions\n",
    "    Predictions = tf.nn.softmax(Y2)\n",
    "    \n",
    "    # Local loss\n",
    "    LocalLoss = tf.nn.sparse_softmax_cross_entropy_with_logits(logits=Y2, labels=Labels)\n",
    "    \n",
    "    # Archived values\n",
    "    StateSeries.append(CurrentState)\n",
    "    LocalLosses.append(LocalLoss)\n",
    "    PredictionSeries.append(Predictions)\n",
    "    \n",
    "# Mean loss on state steps\n",
    "TotalLoss = tf.reduce_mean(LocalLosses)\n",
    "\n",
    "# Finally the optimizer on the total loss\n",
    "TrainStep = tf.train.RMSPropOptimizer(0.01).minimize(TotalLoss)"
   ]
  },
  {
   "cell_type": "markdown",
   "metadata": {},
   "source": [
    "### TensorFlow fit"
   ]
  },
  {
   "cell_type": "code",
   "execution_count": 262,
   "metadata": {},
   "outputs": [],
   "source": [
    "nEpochs = 16\n",
    "\n",
    "init = tf.global_variables_initializer() \n",
    "\n",
    "with tf.Session() as sess:\n",
    "    sess.run(init)\n",
    "    \n",
    "    losses = []\n",
    "   \n",
    "    for epoch in range(nEpochs):\n",
    "        x, y = xTrainBatched, yTrainBatched\n",
    "        _currentState = np.zeros((nBatchItems, nStateSamples))\n",
    "\n",
    "        for batch_idx in range(nBatches):\n",
    "            start_idx = batch_idx * nBackpropagationSamples\n",
    "            end_idx = start_idx + nBackpropagationSamples\n",
    "\n",
    "            batchX = x[:, start_idx:end_idx]\n",
    "            batchY = y[:, start_idx:end_idx]\n",
    "\n",
    "            _trainStep, _totalLoss, _currentState = sess.run(\n",
    "                [TrainStep, TotalLoss, CurrentState],\n",
    "                feed_dict={X: batchX, Y: batchY, InitState: _currentState})\n",
    "            \n",
    "            # Saved values\n",
    "            losses.append(_totalLoss)\n",
    "            \n",
    "            \n",
    "    # Final predictions on train data  \n",
    "    predictions = np.zeros(n)\n",
    "    _currentState = np.zeros((nBatchItems, nStateSamples))\n",
    "    x = xTrainBatched\n",
    "    for batch_idx in range(nBatches):\n",
    "        start_idx = batch_idx * nBackpropagationSamples\n",
    "        end_idx = start_idx + nBackpropagationSamples\n",
    "\n",
    "        batchX = x[:, start_idx:end_idx]\n",
    "\n",
    "        ps = sess.run(PredictionSeries, feed_dict={X: batchX, InitState: _currentState})\n",
    "        predStart_idx = batch_idx * nBatchItems * nBackpropagationSamples\n",
    "        predEnd_idx = predStart_idx + nBatchItems\n",
    "        for pred in ps:\n",
    "            predictions[predStart_idx:predEnd_idx] = np.argmax(pred, axis=1)\n",
    "            predStart_idx = predEnd_idx\n",
    "            predEnd_idx = predStart_idx + nBatchItems\n",
    "            \n",
    "            \n",
    "      #  print(\"End of epoch: {:d}, loss: {:.3e}\".format(epoch, _totalLoss))\n",
    "    \n",
    "    # Final estimator coefficients\n",
    "    w1, b1, w2, b2 = sess.run([W1, B1, W2, B2])"
   ]
  },
  {
   "cell_type": "code",
   "execution_count": 263,
   "metadata": {
    "scrolled": true
   },
   "outputs": [
    {
     "data": {
      "image/png": "[encoded data removed]",
      "text/plain": [
       "<Figure size 432x288 with 1 Axes>"
      ]
     },
     "metadata": {
      "needs_background": "light"
     },
     "output_type": "display_data"
    }
   ],
   "source": [
    "plt.plot(losses)\n",
    "plt.xlabel('batch #')\n",
    "plt.title('loss');"
   ]
  },
  {
   "cell_type": "code",
   "execution_count": 264,
   "metadata": {},
   "outputs": [
    {
     "data": {
      "image/png": "[encoded data removed]",
      "text/plain": [
       "<Figure size 432x288 with 1 Axes>"
      ]
     },
     "metadata": {
      "needs_background": "light"
     },
     "output_type": "display_data"
    }
   ],
   "source": [
    "plt.hist(yTrain, 10, alpha=0.5);\n",
    "plt.hist(predictions, 10, alpha=0.9);"
   ]
  },
  {
   "cell_type": "code",
   "execution_count": 265,
   "metadata": {},
   "outputs": [
    {
     "data": {
      "text/plain": [
       "array([0., 0., 0., 0., 0., 0., 0., 0., 0., 0., 0., 0., 0., 0., 0., 0., 0.,\n",
       "       0., 0., 0., 0., 0., 0., 0., 0., 0., 0., 0., 0., 0., 0., 0., 0., 0.,\n",
       "       0., 0., 0., 0., 0., 0., 0., 0., 0., 0., 0., 0., 0., 0., 0., 0., 0.,\n",
       "       0., 0., 0., 0., 0., 0., 0., 0., 0., 0., 0., 0., 0., 0., 0., 0., 0.,\n",
       "       0., 0., 0., 0., 0., 0., 0., 0., 0., 0., 0., 0., 0., 0., 0., 0., 0.,\n",
       "       0., 0., 0., 0., 0., 0., 0., 0., 0., 0., 0., 0., 0., 0., 0.])"
      ]
     },
     "execution_count": 265,
     "metadata": {},
     "output_type": "execute_result"
    }
   ],
   "source": [
    "predictions[600:700]"
   ]
  }
 ],
 "metadata": {
  "kernelspec": {
   "display_name": "Python 3",
   "language": "python",
   "name": "python3"
  },
  "language_info": {
   "codemirror_mode": {
    "name": "ipython",
    "version": 3
   },
   "file_extension": ".py",
   "mimetype": "text/x-python",
   "name": "python",
   "nbconvert_exporter": "python",
   "pygments_lexer": "ipython3",
   "version": "3.6.3"
  }
 },
 "nbformat": 4,
 "nbformat_minor": 2
}
