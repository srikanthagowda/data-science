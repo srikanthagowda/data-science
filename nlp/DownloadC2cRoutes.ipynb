{
 "cells": [
  {
   "cell_type": "markdown",
   "metadata": {},
   "source": [
    "# Download waypoints from camptocamp.org of the Mt-Blanc region"
   ]
  },
  {
   "cell_type": "code",
   "execution_count": 406,
   "metadata": {},
   "outputs": [],
   "source": [
    "import numpy as np\n",
    "import pandas as pd\n",
    "import matplotlib.pyplot as plt\n",
    "import requests as req\n",
    "from bs4 import BeautifulSoup\n",
    "import nltk\n",
    "from sklearn.preprocessing import MultiLabelBinarizer\n",
    "from sklearn.model_selection import train_test_split\n",
    "import re"
   ]
  },
  {
   "cell_type": "code",
   "execution_count": 56,
   "metadata": {},
   "outputs": [],
   "source": [
    "url_c2c_api = 'https://api.camptocamp.org'\n",
    "# Max 100 per request\n",
    "page_len = 100\n",
    "\n",
    "def get_url_waypoints(area, offset):\n",
    "    return url_c2c_api + f'/waypoints?a={area}&limit=100&offset={offset}'\n",
    "\n",
    "def get_url_routes(area, offset):\n",
    "    return url_c2c_api + f'/routes?a={area}&limit=100&offset={offset}'\n",
    "\n",
    "def get_url_route(id, lang='fr'):\n",
    "    return url_c2c_api + f'/routes/{id}?cook={lang}'"
   ]
  },
  {
   "cell_type": "code",
   "execution_count": 173,
   "metadata": {},
   "outputs": [],
   "source": [
    "def strip_html(html):\n",
    "    if html is not None:\n",
    "        return ' '.join(BeautifulSoup(html).findAll(text=True))\n",
    "    else:\n",
    "        return ''\n",
    "\n",
    "def read_field(doc, field, default=''):\n",
    "    if field in doc.keys():\n",
    "        return doc[field]\n",
    "    else:\n",
    "        return default\n",
    "\n",
    "def read_route(id):\n",
    "    \"\"\" Get and extract wanted information from a route \"\"\"\n",
    "    route_doc = req.get(get_url_route(id)).json()\n",
    "    \n",
    "    activities = read_field(route_doc, 'activities', [])\n",
    "    configuration = read_field(route_doc, 'configuration', [])\n",
    "    \n",
    "    # cooked already in 'fr'\n",
    "    title = strip_html(read_field(route_doc['cooked'], 'title_prefix') + read_field(route_doc['cooked'], 'title'))\n",
    "    description = strip_html(read_field(route_doc['cooked'], 'description'))\n",
    "    return dict(id=id, title_fr=title, activities=activities, configuration=configuration, description_fr=description)"
   ]
  },
  {
   "cell_type": "code",
   "execution_count": 256,
   "metadata": {},
   "outputs": [],
   "source": [
    "cols = ['id', 'title_fr', 'activities', 'configuration', 'description_fr']"
   ]
  },
  {
   "cell_type": "code",
   "execution_count": 390,
   "metadata": {},
   "outputs": [],
   "source": [
    "def process_area_routes(area_id, area_title):\n",
    "\n",
    "    df_routes = pd.DataFrame(columns=cols)\n",
    "\n",
    "    # Get first page in order to get total number of routes\n",
    "    page_offset = 0\n",
    "    route_list = req.get(get_url_routes(area_id, page_offset)).json()\n",
    "    nb_routes = route_list['total']\n",
    "    print('Number of routes %d for %s' %(nb_routes, area_title))\n",
    "\n",
    "    # Iterate\n",
    "    cnt_routes = 0\n",
    "    cnt_iter = 0\n",
    "    while cnt_routes < nb_routes and cnt_iter < 1000:\n",
    "        rows = []\n",
    "        for route_doc in route_list['documents']:\n",
    "            route_data = read_route(route_doc['document_id'])\n",
    "            rows.append(route_data)\n",
    "            cnt_routes += 1\n",
    "        df_routes = df_routes.append(rows)\n",
    "        page_offset += len(route_list['documents'])\n",
    "        print('page offset:', page_offset)\n",
    "        route_list = req.get(get_url_routes(area_id, page_offset)).json()\n",
    "        cnt_iter += 1\n",
    "\n",
    "    print('download completed')\n",
    "    # Handle N/A\n",
    "    empty_config = df_routes['configuration'].isnull() | (df_routes['configuration'] == '')\n",
    "    df_routes.loc[empty_config, 'configuration'] = [[] for i in range(empty_config.sum())]\n",
    "    print('data cleaned')\n",
    "    df_routes.to_parquet(f'data/routes_details_{area_title}.parquet', compression='GZIP')\n",
    "    print('data saved to Parquet file')\n",
    "    \n",
    "    return df_routes"
   ]
  },
  {
   "cell_type": "code",
   "execution_count": 392,
   "metadata": {},
   "outputs": [
    {
     "name": "stdout",
     "output_type": "stream",
     "text": [
      "Number of routes 3911 for haute-savoie\n",
      "page offset: 100\n",
      "page offset: 200\n",
      "page offset: 300\n",
      "page offset: 400\n",
      "page offset: 500\n",
      "page offset: 600\n",
      "page offset: 700\n",
      "page offset: 800\n",
      "page offset: 900\n",
      "page offset: 1000\n",
      "page offset: 1100\n",
      "page offset: 1200\n",
      "page offset: 1300\n",
      "page offset: 1400\n",
      "page offset: 1500\n",
      "page offset: 1600\n",
      "page offset: 1700\n",
      "page offset: 1800\n",
      "page offset: 1900\n",
      "page offset: 2000\n",
      "page offset: 2100\n",
      "page offset: 2200\n",
      "page offset: 2300\n",
      "page offset: 2400\n",
      "page offset: 2500\n",
      "page offset: 2600\n",
      "page offset: 2700\n",
      "page offset: 2800\n",
      "page offset: 2900\n",
      "page offset: 3000\n",
      "page offset: 3100\n",
      "page offset: 3200\n",
      "page offset: 3300\n",
      "page offset: 3400\n",
      "page offset: 3500\n",
      "page offset: 3600\n",
      "page offset: 3700\n",
      "page offset: 3800\n",
      "page offset: 3900\n",
      "page offset: 3911\n",
      "download completed\n",
      "data cleaned\n",
      "data saved to Parquet file\n",
      "Number of routes 3221 for savoie\n",
      "page offset: 100\n",
      "page offset: 200\n",
      "page offset: 300\n",
      "page offset: 400\n",
      "page offset: 500\n",
      "page offset: 600\n",
      "page offset: 700\n",
      "page offset: 800\n",
      "page offset: 900\n",
      "page offset: 1000\n",
      "page offset: 1100\n",
      "page offset: 1200\n",
      "page offset: 1300\n",
      "page offset: 1400\n",
      "page offset: 1500\n",
      "page offset: 1600\n",
      "page offset: 1700\n",
      "page offset: 1800\n",
      "page offset: 1900\n",
      "page offset: 2000\n",
      "page offset: 2100\n",
      "page offset: 2200\n",
      "page offset: 2300\n",
      "page offset: 2400\n",
      "page offset: 2500\n",
      "page offset: 2600\n",
      "page offset: 2700\n",
      "page offset: 2800\n",
      "page offset: 2900\n",
      "page offset: 3000\n",
      "page offset: 3100\n",
      "page offset: 3200\n",
      "page offset: 3221\n",
      "download completed\n",
      "data cleaned\n",
      "data saved to Parquet file\n",
      "Number of routes 3818 for isere\n",
      "page offset: 100\n",
      "page offset: 200\n",
      "page offset: 300\n",
      "page offset: 400\n",
      "page offset: 500\n",
      "page offset: 600\n",
      "page offset: 700\n",
      "page offset: 800\n",
      "page offset: 900\n",
      "page offset: 1000\n",
      "page offset: 1100\n",
      "page offset: 1200\n",
      "page offset: 1300\n",
      "page offset: 1400\n",
      "page offset: 1500\n",
      "page offset: 1600\n",
      "page offset: 1700\n",
      "page offset: 1800\n",
      "page offset: 1900\n",
      "page offset: 2000\n",
      "page offset: 2100\n",
      "page offset: 2200\n",
      "page offset: 2300\n",
      "page offset: 2400\n",
      "page offset: 2500\n",
      "page offset: 2600\n",
      "page offset: 2700\n",
      "page offset: 2800\n",
      "page offset: 2900\n",
      "page offset: 3000\n",
      "page offset: 3100\n",
      "page offset: 3200\n",
      "page offset: 3300\n",
      "page offset: 3400\n",
      "page offset: 3500\n",
      "page offset: 3600\n",
      "page offset: 3700\n",
      "page offset: 3800\n",
      "page offset: 3818\n",
      "download completed\n",
      "data cleaned\n",
      "data saved to Parquet file\n"
     ]
    },
    {
     "data": {
      "text/html": [
       "<div>\n",
       "<style scoped>\n",
       "    .dataframe tbody tr th:only-of-type {\n",
       "        vertical-align: middle;\n",
       "    }\n",
       "\n",
       "    .dataframe tbody tr th {\n",
       "        vertical-align: top;\n",
       "    }\n",
       "\n",
       "    .dataframe thead th {\n",
       "        text-align: right;\n",
       "    }\n",
       "</style>\n",
       "<table border=\"1\" class=\"dataframe\">\n",
       "  <thead>\n",
       "    <tr style=\"text-align: right;\">\n",
       "      <th></th>\n",
       "      <th>id</th>\n",
       "      <th>title_fr</th>\n",
       "      <th>activities</th>\n",
       "      <th>configuration</th>\n",
       "      <th>description_fr</th>\n",
       "    </tr>\n",
       "  </thead>\n",
       "  <tbody>\n",
       "    <tr>\n",
       "      <th>0</th>\n",
       "      <td>1206778</td>\n",
       "      <td>Saint Pancrasse (le Luisset) voie \"On or in\"</td>\n",
       "      <td>[rock_climbing]</td>\n",
       "      <td>[]</td>\n",
       "      <td>8 points dans la voie \\nRelais sur 2 points ch...</td>\n",
       "    </tr>\n",
       "    <tr>\n",
       "      <th>1</th>\n",
       "      <td>1205974</td>\n",
       "      <td>Tête de l'Ours Délice de Tulip</td>\n",
       "      <td>[rock_climbing]</td>\n",
       "      <td>[face]</td>\n",
       "      <td>Approche \\n Voie \\n \\n \\n \\n L 1 \\n 5c \\n \\n \\...</td>\n",
       "    </tr>\n",
       "    <tr>\n",
       "      <th>2</th>\n",
       "      <td>1205914</td>\n",
       "      <td>Petit Som En boucle depuis la Correrie, retour...</td>\n",
       "      <td>[hiking]</td>\n",
       "      <td>[]</td>\n",
       "      <td>Départ du parking à côté du Musée vers le GRP ...</td>\n",
       "    </tr>\n",
       "    <tr>\n",
       "      <th>3</th>\n",
       "      <td>1202566</td>\n",
       "      <td>Refuge Temple Écrins depuis La Bérarde</td>\n",
       "      <td>[hiking]</td>\n",
       "      <td>[]</td>\n",
       "      <td>De La Bérarde, suivre le chemin qui remonte la...</td>\n",
       "    </tr>\n",
       "    <tr>\n",
       "      <th>4</th>\n",
       "      <td>1201500</td>\n",
       "      <td>Rocher Blanc Arête S par le Col de l'Amiante -...</td>\n",
       "      <td>[skitouring]</td>\n",
       "      <td>[]</td>\n",
       "      <td>Montée \\n Du parking, traverser le pont pour r...</td>\n",
       "    </tr>\n",
       "    <tr>\n",
       "      <th>...</th>\n",
       "      <td>...</td>\n",
       "      <td>...</td>\n",
       "      <td>...</td>\n",
       "      <td>...</td>\n",
       "      <td>...</td>\n",
       "    </tr>\n",
       "    <tr>\n",
       "      <th>13</th>\n",
       "      <td>45230</td>\n",
       "      <td>Col de Morétan Versant W</td>\n",
       "      <td>[skitouring]</td>\n",
       "      <td>[]</td>\n",
       "      <td>Versant W du vallon du Gleyzin \\n \\n Montée \\n...</td>\n",
       "    </tr>\n",
       "    <tr>\n",
       "      <th>14</th>\n",
       "      <td>45217</td>\n",
       "      <td>Col de Burlan Couloir N</td>\n",
       "      <td>[skitouring, snow_ice_mixed]</td>\n",
       "      <td>[corridor]</td>\n",
       "      <td>\\n Approche \\n Depuis le  parking , emprunter ...</td>\n",
       "    </tr>\n",
       "    <tr>\n",
       "      <th>15</th>\n",
       "      <td>45193</td>\n",
       "      <td>Pointe de Vaudaine Versant W</td>\n",
       "      <td>[skitouring]</td>\n",
       "      <td>[face, corridor]</td>\n",
       "      <td>Accès au Lacs Robert \\n Plusieurs possibilités...</td>\n",
       "    </tr>\n",
       "    <tr>\n",
       "      <th>16</th>\n",
       "      <td>45164</td>\n",
       "      <td>Col de Roche Noire Versant E</td>\n",
       "      <td>[skitouring]</td>\n",
       "      <td>[face]</td>\n",
       "      <td>Montée \\n Roche Noire - Col de Roche Noire - R...</td>\n",
       "    </tr>\n",
       "    <tr>\n",
       "      <th>17</th>\n",
       "      <td>45158</td>\n",
       "      <td>Grand Som Arête N - depuis la Ruchère</td>\n",
       "      <td>[snowshoeing, skitouring]</td>\n",
       "      <td>[]</td>\n",
       "      <td>Montée \\n Depuis le Habert, remonter le long d...</td>\n",
       "    </tr>\n",
       "  </tbody>\n",
       "</table>\n",
       "<p>3818 rows × 5 columns</p>\n",
       "</div>"
      ],
      "text/plain": [
       "         id                                           title_fr  \\\n",
       "0   1206778       Saint Pancrasse (le Luisset) voie \"On or in\"   \n",
       "1   1205974                     Tête de l'Ours Délice de Tulip   \n",
       "2   1205914  Petit Som En boucle depuis la Correrie, retour...   \n",
       "3   1202566             Refuge Temple Écrins depuis La Bérarde   \n",
       "4   1201500  Rocher Blanc Arête S par le Col de l'Amiante -...   \n",
       "..      ...                                                ...   \n",
       "13    45230                           Col de Morétan Versant W   \n",
       "14    45217                            Col de Burlan Couloir N   \n",
       "15    45193                       Pointe de Vaudaine Versant W   \n",
       "16    45164                       Col de Roche Noire Versant E   \n",
       "17    45158              Grand Som Arête N - depuis la Ruchère   \n",
       "\n",
       "                      activities     configuration  \\\n",
       "0                [rock_climbing]                []   \n",
       "1                [rock_climbing]            [face]   \n",
       "2                       [hiking]                []   \n",
       "3                       [hiking]                []   \n",
       "4                   [skitouring]                []   \n",
       "..                           ...               ...   \n",
       "13                  [skitouring]                []   \n",
       "14  [skitouring, snow_ice_mixed]        [corridor]   \n",
       "15                  [skitouring]  [face, corridor]   \n",
       "16                  [skitouring]            [face]   \n",
       "17     [snowshoeing, skitouring]                []   \n",
       "\n",
       "                                       description_fr  \n",
       "0   8 points dans la voie \\nRelais sur 2 points ch...  \n",
       "1   Approche \\n Voie \\n \\n \\n \\n L 1 \\n 5c \\n \\n \\...  \n",
       "2   Départ du parking à côté du Musée vers le GRP ...  \n",
       "3   De La Bérarde, suivre le chemin qui remonte la...  \n",
       "4   Montée \\n Du parking, traverser le pont pour r...  \n",
       "..                                                ...  \n",
       "13  Versant W du vallon du Gleyzin \\n \\n Montée \\n...  \n",
       "14  \\n Approche \\n Depuis le  parking , emprunter ...  \n",
       "15  Accès au Lacs Robert \\n Plusieurs possibilités...  \n",
       "16  Montée \\n Roche Noire - Col de Roche Noire - R...  \n",
       "17  Montée \\n Depuis le Habert, remonter le long d...  \n",
       "\n",
       "[3818 rows x 5 columns]"
      ]
     },
     "execution_count": 392,
     "metadata": {},
     "output_type": "execute_result"
    }
   ],
   "source": [
    "#process_area_routes(14410, 'mt-blanc')\n",
    "#process_area_routes(14411, 'chablais')\n",
    "#process_area_routes(14417, 'aravis')\n",
    "process_area_routes(14366, 'haute-savoie')\n",
    "process_area_routes(14295, 'savoie')\n",
    "process_area_routes(14328, 'isere')\n",
    "process_area_routes(14361, 'hautes-alpes');"
   ]
  },
  {
   "cell_type": "markdown",
   "metadata": {},
   "source": [
    "### Transform activities and configuration into 1 hot"
   ]
  },
  {
   "cell_type": "code",
   "execution_count": 513,
   "metadata": {},
   "outputs": [
    {
     "data": {
      "text/plain": [
       "(14074, 5)"
      ]
     },
     "execution_count": 513,
     "metadata": {},
     "output_type": "execute_result"
    }
   ],
   "source": [
    "all_routes = pd.concat([pd.read_parquet('data/routes_details_haute-savoie.parquet'),\n",
    "                        pd.read_parquet('data/routes_details_savoie.parquet'), \n",
    "                        pd.read_parquet('data/routes_details_isere.parquet'),\n",
    "                        pd.read_parquet('data/routes_details_hautes-alpes.parquet')])\n",
    "all_routes.shape"
   ]
  },
  {
   "cell_type": "markdown",
   "metadata": {},
   "source": [
    "### Remove routes without description\n",
    "\n",
    "They are easy to spot as a quality issue and are not useful for predictions on text"
   ]
  },
  {
   "cell_type": "code",
   "execution_count": 514,
   "metadata": {},
   "outputs": [
    {
     "name": "stdout",
     "output_type": "stream",
     "text": [
      "Number of routes with no description: 610\n"
     ]
    },
    {
     "data": {
      "text/plain": [
       "(13464, 5)"
      ]
     },
     "execution_count": 514,
     "metadata": {},
     "output_type": "execute_result"
    }
   ],
   "source": [
    "print('Number of routes with no description: %d' % (all_routes.description_fr.str.len() == 0).sum())\n",
    "all_routes = all_routes[all_routes.description_fr.str.len() > 0]\n",
    "all_routes.shape"
   ]
  },
  {
   "cell_type": "markdown",
   "metadata": {},
   "source": [
    "### Create 1 hot encoded columns for activities\n",
    "\n",
    "Possibly more than 1 activity per route"
   ]
  },
  {
   "cell_type": "code",
   "execution_count": 515,
   "metadata": {},
   "outputs": [],
   "source": [
    "mlb = MultiLabelBinarizer()\n",
    "activities_1hot = mlb.fit_transform(all_routes.activities)\n",
    "activities_cols = mlb.classes_\n",
    "configuration_1hot = mlb.fit_transform(all_routes.configuration)\n",
    "configuration_cols = mlb.classes_\n",
    "\n",
    "all_routes = pd.concat([all_routes, \n",
    "                        pd.DataFrame(activities_1hot, columns=activities_cols, index=all_routes.index),\n",
    "                        pd.DataFrame(configuration_1hot, columns=configuration_cols, index=all_routes.index)], \n",
    "                       axis=1)"
   ]
  },
  {
   "cell_type": "code",
   "execution_count": 516,
   "metadata": {},
   "outputs": [
    {
     "data": {
      "image/png": "[encoded data removed]",
      "text/plain": [
       "<Figure size 1080x720 with 2 Axes>"
      ]
     },
     "metadata": {
      "needs_background": "light"
     },
     "output_type": "display_data"
    }
   ],
   "source": [
    "fig, axes = plt.subplots(2, 1, figsize=(15, 10))\n",
    "ax = axes[0]\n",
    "ax.bar(activities_cols, all_routes[activities_cols].sum());\n",
    "ax.set_title('Activities')\n",
    "ax.grid()\n",
    "ax = axes[1]\n",
    "ax.bar(configuration_cols, all_routes[configuration_cols].sum());\n",
    "ax.set_title('Configurations');\n",
    "ax.grid()"
   ]
  },
  {
   "cell_type": "code",
   "execution_count": 499,
   "metadata": {},
   "outputs": [],
   "source": [
    "def clean_and_tokenize(text):\n",
    "    text = re.sub('[;,:\\!\\?\\.\\(\\)\\n]', ' ', text).replace('[\\s+]', ' ')\n",
    "    return nltk.word_tokenize(text)\n",
    "\n",
    "sequences = all_routes.apply(lambda row: clean_and_tokenize(row['description_fr']), axis=1)"
   ]
  },
  {
   "cell_type": "code",
   "execution_count": 500,
   "metadata": {},
   "outputs": [
    {
     "name": "stdout",
     "output_type": "stream",
     "text": [
      "['Montée', 'Depuis', 'le', 'Dérochoir', 'longer', 'la', 'crête', 'entre', 'la', 'Pointe', 'du', 'Dérochoir', 'et', 'la', 'Pointe', 'de', 'Platé', 'Depuis', 'les', 'chalets', 'de', 'Platé', 'se', 'diriger', 'vers', 'la', 'base', 'de', 'la', 'face', 'E', 'de', 'la', 'Pointe', 'de', 'Platé', 'Repérer', 'la', 'cheminée', 'dans', 'la', 'face', \"S'engager\", 'dedans', 'et', 'la', 'gravir', \"jusqu'au\", 'sommet', 'IV', 'sup', 'en', 'rocher', 'délité', 'Descente', 'Par', \"l'arête\", 'N', 'et', 'avec', 'sa', 'variante', 'du', 'Sphinx', 'ou', 'la', 'face', 'W', 'Possibilité', 'de', 'descendre', 'aussi', 'par', \"l'arête\", 'S', 'et/ou', 'le', 'couloir', 'du', 'Gypaète', 'La', 'descente', 'par', 'cet', 'itinéraire', 'est', 'hasardeuse', 'Il', 'est', 'possible', 'de', 'passer', 'par', 'les', 'vires', 'et', 'gradins', 'de', \"l'arête\", 'E', 'plus', 'faciles', 'mais', \"l'exposition\", 'y', 'est', 'autant', 'voire', 'plus', 'forte']\n"
     ]
    }
   ],
   "source": [
    "print(sequences.iloc[6])"
   ]
  },
  {
   "cell_type": "code",
   "execution_count": 506,
   "metadata": {},
   "outputs": [
    {
     "data": {
      "text/plain": [
       "0.02      3.00\n",
       "0.10     50.00\n",
       "0.20     80.00\n",
       "0.30    106.00\n",
       "0.50    163.00\n",
       "0.60    197.00\n",
       "0.70    241.00\n",
       "0.80    305.00\n",
       "0.90    424.00\n",
       "0.95    537.00\n",
       "0.99    851.48\n",
       "dtype: float64"
      ]
     },
     "execution_count": 506,
     "metadata": {},
     "output_type": "execute_result"
    }
   ],
   "source": [
    "sequences.str.len().quantile([0.02, 0.1, 0.2, 0.3, 0.5, 0.6, 0.7, 0.8, 0.9, 0.95, 0.99])"
   ]
  },
  {
   "cell_type": "code",
   "execution_count": 507,
   "metadata": {},
   "outputs": [
    {
     "data": {
      "image/png": "[encoded data removed]",
      "text/plain": [
       "<Figure size 1080x432 with 1 Axes>"
      ]
     },
     "metadata": {
      "needs_background": "light"
     },
     "output_type": "display_data"
    }
   ],
   "source": [
    "fig, ax = plt.subplots(figsize=(15, 6))\n",
    "sequences.str.len().hist(bins=500, ax=ax)\n",
    "ax.set_title('Histogram of texts length');"
   ]
  },
  {
   "cell_type": "code",
   "execution_count": 508,
   "metadata": {},
   "outputs": [],
   "source": [
    "pd.DataFrame(sequences, columns=['description']).to_parquet('data/routes_description_tokens_all.parquet', compression='GZIP')\n",
    "all_routes.to_parquet('data/routes_details_all_1hot.parquet', compression='GZIP')"
   ]
  },
  {
   "cell_type": "code",
   "execution_count": null,
   "metadata": {},
   "outputs": [],
   "source": []
  }
 ],
 "metadata": {
  "kernelspec": {
   "display_name": "Python 3",
   "language": "python",
   "name": "python3"
  },
  "language_info": {
   "codemirror_mode": {
    "name": "ipython",
    "version": 3
   },
   "file_extension": ".py",
   "mimetype": "text/x-python",
   "name": "python",
   "nbconvert_exporter": "python",
   "pygments_lexer": "ipython3",
   "version": "3.7.6"
  }
 },
 "nbformat": 4,
 "nbformat_minor": 4
}
