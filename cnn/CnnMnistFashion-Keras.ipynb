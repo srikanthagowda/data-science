{
 "cells": [
  {
   "cell_type": "markdown",
   "metadata": {},
   "source": [
    "# MNIST Fashion classification with convolutional neural network\n",
    "\n",
    "Study the Convolutionnal neural network (CNN) tutorial of Keras on the classification of the MNIST Fashion Dataset\n",
    "\n",
    "Learning goals:\n",
    "- Understand the model structure\n",
    "- Evaluate and enhance the model\n",
    "- Use several kinds of regularizers to improve the generalization (kernel/bias, dropout, dataset augmentation)\n",
    "\n",
    "To compare with the [Dense (Perceptron) only implementation](../classification/ClassificationMultiMnistFashion.html) ([Notebook](../classification/ClassificationMultiMnistFashion.ipynb))\n",
    "\n",
    "References:\n",
    "1. [Introduction to CNNs - Tensorflow/Keras](https://www.tensorflow.org/beta/tutorials/images/intro_to_cnns)\n",
    "2. [Keras Conv2D and Convolutional layer - PyImageSearch](https://www.pyimagesearch.com/2018/12/31/keras-conv2d-and-convolutional-layers/)"
   ]
  },
  {
   "cell_type": "code",
   "execution_count": 1,
   "metadata": {},
   "outputs": [
    {
     "name": "stdout",
     "output_type": "stream",
     "text": [
      "2.2.4-tf\n"
     ]
    }
   ],
   "source": [
    "from tensorflow import keras\n",
    "import numpy as np\n",
    "import matplotlib.pyplot as plt\n",
    "\n",
    "print(keras.__version__)\n",
    "\n",
    "# Patch for macOS + Conda\n",
    "import os\n",
    "os.environ['KMP_DUPLICATE_LIB_OK']='True'"
   ]
  },
  {
   "cell_type": "markdown",
   "metadata": {},
   "source": [
    "## Data\n",
    "\n",
    "Using the fashion MNIST dataset from https://github.com/zalandoresearch/fashion-mnist\n",
    "It is made of 70k pictures classified in 10 categories. \n",
    "Images are greyscale, 28x28 pixels.\n",
    "\n",
    "The train/test split is 60/10"
   ]
  },
  {
   "cell_type": "code",
   "execution_count": 2,
   "metadata": {},
   "outputs": [],
   "source": [
    "(train_images, train_labels), (test_images, test_labels) = keras.datasets.fashion_mnist.load_data()"
   ]
  },
  {
   "cell_type": "code",
   "execution_count": 3,
   "metadata": {},
   "outputs": [],
   "source": [
    "class_names = ['T-shirt/top', 'Trouser', 'Pullover', 'Dress', 'Coat',\n",
    "               'Sandal', 'Shirt', 'Sneaker', 'Bag', 'Ankle boot']\n",
    "\n",
    "image_width = 28\n",
    "image_height = 28\n",
    "image_nchannels = 1\n",
    "n_classes = len(class_names)"
   ]
  },
  {
   "cell_type": "code",
   "execution_count": 4,
   "metadata": {},
   "outputs": [
    {
     "data": {
      "text/plain": [
       "(60000, 28, 28)"
      ]
     },
     "execution_count": 4,
     "metadata": {},
     "output_type": "execute_result"
    }
   ],
   "source": [
    "train_images.shape"
   ]
  },
  {
   "cell_type": "markdown",
   "metadata": {},
   "source": [
    "Reshaping to get a tensor with the channels, and scaling the 8 bit pixels of the images to float values in [0,1)"
   ]
  },
  {
   "cell_type": "code",
   "execution_count": 6,
   "metadata": {},
   "outputs": [],
   "source": [
    "train_images = train_images.reshape(60000, image_width, image_height, image_nchannels) / 255.0\n",
    "test_images = test_images.reshape(10000, image_width, image_height, image_nchannels) / 255.0"
   ]
  },
  {
   "cell_type": "markdown",
   "metadata": {},
   "source": [
    "## Helpers"
   ]
  },
  {
   "cell_type": "code",
   "execution_count": 8,
   "metadata": {},
   "outputs": [],
   "source": [
    "def plot_history(hist, with_validation=False):\n",
    "    \"\"\" Plot a classification history as outputted by Keras \"\"\"\n",
    "    plt.figure(figsize=(15,4))\n",
    "    plt.subplot(1,3,1)\n",
    "    plt.plot(hist.history['loss'])\n",
    "    if with_validation:\n",
    "        plt.plot(hist.history['val_loss'])\n",
    "        plt.legend(('train', 'valid'))\n",
    "    plt.grid()\n",
    "    plt.title('Loss')\n",
    "    plt.subplot(1,3,2)\n",
    "    plt.plot(hist.history['acc'])\n",
    "    if with_validation:\n",
    "        plt.plot(hist.history['val_acc'])\n",
    "        plt.legend(('train', 'valid'))\n",
    "    plt.grid()\n",
    "    plt.title('Accuracy');"
   ]
  },
  {
   "cell_type": "markdown",
   "metadata": {},
   "source": [
    "# 2D Convolutional neural network (CNN)\n",
    "\n",
    "https://www.tensorflow.org/beta/tutorials/images/intro_to_cnns  __!! Tensorflow v2.0-beta tutorial__ but it works with TF v1.14, convergence is slower though"
   ]
  },
  {
   "cell_type": "code",
   "execution_count": 7,
   "metadata": {
    "scrolled": true
   },
   "outputs": [
    {
     "name": "stderr",
     "output_type": "stream",
     "text": [
      "WARNING: Logging before flag parsing goes to stderr.\n",
      "W0819 09:32:44.010488 4489266624 deprecation.py:506] From //anaconda3/lib/python3.7/site-packages/tensorflow/python/ops/init_ops.py:1251: calling VarianceScaling.__init__ (from tensorflow.python.ops.init_ops) with dtype is deprecated and will be removed in a future version.\n",
      "Instructions for updating:\n",
      "Call initializer instance with the dtype argument instead of passing it to the constructor\n"
     ]
    },
    {
     "name": "stdout",
     "output_type": "stream",
     "text": [
      "Model: \"model5\"\n",
      "_________________________________________________________________\n",
      "Layer (type)                 Output Shape              Param #   \n",
      "=================================================================\n",
      "conv2d (Conv2D)              (None, 26, 26, 32)        320       \n",
      "_________________________________________________________________\n",
      "max_pooling2d (MaxPooling2D) (None, 13, 13, 32)        0         \n",
      "_________________________________________________________________\n",
      "conv2d_1 (Conv2D)            (None, 11, 11, 64)        18496     \n",
      "_________________________________________________________________\n",
      "max_pooling2d_1 (MaxPooling2 (None, 5, 5, 64)          0         \n",
      "_________________________________________________________________\n",
      "conv2d_2 (Conv2D)            (None, 3, 3, 64)          36928     \n",
      "_________________________________________________________________\n",
      "flatten (Flatten)            (None, 576)               0         \n",
      "_________________________________________________________________\n",
      "dense (Dense)                (None, 64)                36928     \n",
      "_________________________________________________________________\n",
      "dense_1 (Dense)              (None, 10)                650       \n",
      "=================================================================\n",
      "Total params: 93,322\n",
      "Trainable params: 93,322\n",
      "Non-trainable params: 0\n",
      "_________________________________________________________________\n"
     ]
    }
   ],
   "source": [
    "model5 = keras.models.Sequential([\n",
    "    # Single image channel\n",
    "    keras.layers.Conv2D(32, (3, 3), activation=keras.activations.relu, \n",
    "                        input_shape=(image_width, image_height, image_nchannels)), \n",
    "    keras.layers.MaxPooling2D((2, 2)),\n",
    "    keras.layers.Conv2D(64, (3, 3), activation=keras.activations.relu),\n",
    "    keras.layers.MaxPooling2D((2, 2)),\n",
    "    keras.layers.Conv2D(64, (3, 3), activation=keras.activations.relu),\n",
    "    keras.layers.Flatten(),\n",
    "    keras.layers.Dense(64, activation=keras.activations.relu),\n",
    "    keras.layers.Dense(10, activation=keras.activations.softmax)\n",
    "], 'model5')\n",
    "\n",
    "model5.compile(optimizer='adam',\n",
    "              loss=keras.losses.sparse_categorical_crossentropy,\n",
    "              metrics=['accuracy'])\n",
    "\n",
    "model5.summary()\n",
    "\n",
    "hist5 = model5.fit(train_images, train_labels, \n",
    "                   epochs=25, validation_split=0.2, \n",
    "                   verbose=0)"
   ]
  },
  {
   "cell_type": "code",
   "execution_count": 9,
   "metadata": {
    "scrolled": false
   },
   "outputs": [
    {
     "name": "stdout",
     "output_type": "stream",
     "text": [
      "Final train accuracy: 0.979\n"
     ]
    },
    {
     "data": {
      "image/png": "[encoded data removed]",
      "text/plain": [
       "<Figure size 1080x288 with 2 Axes>"
      ]
     },
     "metadata": {
      "needs_background": "light"
     },
     "output_type": "display_data"
    }
   ],
   "source": [
    "plot_history(hist5, True)\n",
    "print('Final train accuracy: {:.3f}'.format(hist5.history['acc'][-1]))"
   ]
  },
  {
   "cell_type": "code",
   "execution_count": 10,
   "metadata": {},
   "outputs": [
    {
     "name": "stdout",
     "output_type": "stream",
     "text": [
      "Test loss: 0.514 accuracy: 0.903\n"
     ]
    }
   ],
   "source": [
    "test_loss5, test_acc5 = model5.evaluate(test_images, test_labels, verbose=0)\n",
    "print('Test loss: {:.3f} accuracy: {:.3f}'.format(test_loss5, test_acc5))"
   ]
  },
  {
   "cell_type": "markdown",
   "metadata": {},
   "source": [
    "Here again there is a difference between the training and validation or test accuracies.\n",
    "\n",
    "The result is quite lower compared to the referenced tutorial (claiming 99% test accuracy). Is this due to the use of Tensorflow 1.14 vs. 2.0-beta ?\n",
    "\n",
    "As on the classical model, there is probably overfitting.\n",
    "\n",
    "Here is the histogram of the ceofficients of the Dense layer of 64 neurons:"
   ]
  },
  {
   "cell_type": "code",
   "execution_count": 12,
   "metadata": {},
   "outputs": [
    {
     "data": {
      "image/png": "[encoded data removed]",
      "text/plain": [
       "<Figure size 432x288 with 1 Axes>"
      ]
     },
     "metadata": {
      "needs_background": "light"
     },
     "output_type": "display_data"
    }
   ],
   "source": [
    "plt.hist(model5.get_weights()[6].reshape(-1), bins=40, range=(-0.15, 0.15), density=True);\n",
    "plt.title('Coefficient histogram');"
   ]
  },
  {
   "cell_type": "markdown",
   "metadata": {},
   "source": [
    "## CNN with regularizer\n",
    "\n",
    "Let's apply a regularizer on the two largest layers, and decrease the size of the last Conv2D and the 1st Dense layers from 64 to 48."
   ]
  },
  {
   "cell_type": "code",
   "execution_count": 13,
   "metadata": {},
   "outputs": [
    {
     "name": "stdout",
     "output_type": "stream",
     "text": [
      "Model: \"model6\"\n",
      "_________________________________________________________________\n",
      "Layer (type)                 Output Shape              Param #   \n",
      "=================================================================\n",
      "conv2d_3 (Conv2D)            (None, 26, 26, 32)        320       \n",
      "_________________________________________________________________\n",
      "max_pooling2d_2 (MaxPooling2 (None, 13, 13, 32)        0         \n",
      "_________________________________________________________________\n",
      "conv2d_4 (Conv2D)            (None, 11, 11, 64)        18496     \n",
      "_________________________________________________________________\n",
      "max_pooling2d_3 (MaxPooling2 (None, 5, 5, 64)          0         \n",
      "_________________________________________________________________\n",
      "conv2d_5 (Conv2D)            (None, 3, 3, 48)          27696     \n",
      "_________________________________________________________________\n",
      "flatten_1 (Flatten)          (None, 432)               0         \n",
      "_________________________________________________________________\n",
      "dense_2 (Dense)              (None, 48)                20784     \n",
      "_________________________________________________________________\n",
      "dense_3 (Dense)              (None, 10)                490       \n",
      "=================================================================\n",
      "Total params: 67,786\n",
      "Trainable params: 67,786\n",
      "Non-trainable params: 0\n",
      "_________________________________________________________________\n"
     ]
    }
   ],
   "source": [
    "model6 = keras.models.Sequential([\n",
    "    # Single image channel\n",
    "    keras.layers.Conv2D(32, (3, 3), activation=keras.activations.relu, \n",
    "                        input_shape=(image_width, image_height, image_nchannels)), \n",
    "    keras.layers.MaxPooling2D((2, 2)),\n",
    "    keras.layers.Conv2D(64, (3, 3), activation=keras.activations.relu),\n",
    "    keras.layers.MaxPooling2D((2, 2)),\n",
    "    keras.layers.Conv2D(48, (3, 3), activation=keras.activations.relu,\n",
    "                        bias_regularizer=keras.regularizers.l1(0.00001),   # <---\n",
    "                       kernel_regularizer=keras.regularizers.l1(0.00001)), # <---\n",
    "    keras.layers.Flatten(),\n",
    "    keras.layers.Dense(48, activation=keras.activations.relu,             # <---\n",
    "                       bias_regularizer=keras.regularizers.l1(0.00001),    # <---\n",
    "                       kernel_regularizer=keras.regularizers.l1(0.00001)), # <---\n",
    "    keras.layers.Dense(10, activation=keras.activations.softmax)\n",
    "], 'model6')\n",
    "\n",
    "model6.compile(optimizer='adam',\n",
    "              loss=keras.losses.sparse_categorical_crossentropy,\n",
    "              metrics=['accuracy'])\n",
    "\n",
    "model6.summary()\n",
    "\n",
    "hist6 = model6.fit(train_images, train_labels, \n",
    "                   epochs=24, validation_split=0.2, \n",
    "                   verbose=0)"
   ]
  },
  {
   "cell_type": "code",
   "execution_count": 14,
   "metadata": {
    "scrolled": true
   },
   "outputs": [
    {
     "name": "stdout",
     "output_type": "stream",
     "text": [
      "Final train accuracy: 0.973\n"
     ]
    },
    {
     "data": {
      "image/png": "[encoded data removed]",
      "text/plain": [
       "<Figure size 1080x288 with 2 Axes>"
      ]
     },
     "metadata": {
      "needs_background": "light"
     },
     "output_type": "display_data"
    }
   ],
   "source": [
    "plot_history(hist6, True)\n",
    "print('Final train accuracy: {:.3f}'.format(hist6.history['acc'][-1]))"
   ]
  },
  {
   "cell_type": "code",
   "execution_count": 16,
   "metadata": {},
   "outputs": [
    {
     "name": "stdout",
     "output_type": "stream",
     "text": [
      "Test loss: 0.470 accuracy: 0.898\n"
     ]
    }
   ],
   "source": [
    "test_loss6, test_acc6 = model6.evaluate(test_images, test_labels, verbose=0)\n",
    "print('Test loss: {:.3f} accuracy: {:.3f}'.format(test_loss6, test_acc6))"
   ]
  },
  {
   "cell_type": "markdown",
   "metadata": {},
   "source": [
    "Train accuracy is a little lower, test accuracy is the same as with the bigger model.\n",
    "\n",
    "Coefficients are better spread on the layers with regularizers"
   ]
  },
  {
   "cell_type": "code",
   "execution_count": 15,
   "metadata": {},
   "outputs": [
    {
     "data": {
      "image/png": "[encoded data removed]",
      "text/plain": [
       "<Figure size 432x288 with 1 Axes>"
      ]
     },
     "metadata": {
      "needs_background": "light"
     },
     "output_type": "display_data"
    }
   ],
   "source": [
    "weights6 = model6.get_weights()\n",
    "plt.hist(weights6[4].reshape(-1), bins=40, range=(-0.1, 0.1), density=True, alpha=0.5);\n",
    "plt.hist(weights6[6].reshape(-1), bins=40, range=(-0.1, 0.1), density=True, alpha=0.5);\n",
    "plt.legend(('Last Conv2D', 'First Dense'))\n",
    "plt.title('Coefficient histogram');"
   ]
  }
 ],
 "metadata": {
  "kernelspec": {
   "display_name": "Python 3",
   "language": "python",
   "name": "python3"
  },
  "language_info": {
   "codemirror_mode": {
    "name": "ipython",
    "version": 3
   },
   "file_extension": ".py",
   "mimetype": "text/x-python",
   "name": "python",
   "nbconvert_exporter": "python",
   "pygments_lexer": "ipython3",
   "version": "3.7.3"
  }
 },
 "nbformat": 4,
 "nbformat_minor": 2
}
